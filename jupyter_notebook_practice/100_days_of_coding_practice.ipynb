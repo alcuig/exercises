{
 "cells": [
  {
   "cell_type": "code",
   "execution_count": 1,
   "id": "5ab7298c",
   "metadata": {},
   "outputs": [
    {
     "name": "stdout",
     "output_type": "stream",
     "text": [
      "Hello, how are you?\n",
      "What is the name of the city that you grew up in?\n",
      "Ohio\n",
      "What is the name of your pet?\n",
      "Charlie\n",
      "Here is your OhioCharlie\n"
     ]
    }
   ],
   "source": [
    "print(\"Hello, how are you?\")\n",
    "city = input(\"What is the name of the city that you grew up in?\\n\")\n",
    "pet = input(\"What is the name of your pet?\\n\")\n",
    "band_name = city + pet\n",
    "print(\"Here is your \" + band_name)"
   ]
  },
  {
   "cell_type": "code",
   "execution_count": 2,
   "id": "924ca331",
   "metadata": {},
   "outputs": [
    {
     "name": "stdout",
     "output_type": "stream",
     "text": [
      "Hello, how are you?\n",
      "What is the name of the city that you grew up in?\n",
      "Truro\n",
      "What is the name of your pet?\n",
      "Dead\n",
      "Here is the name of your band :Truro Dead\n"
     ]
    }
   ],
   "source": [
    "print(\"Hello, how are you?\")\n",
    "city = input(\"What is the name of the city that you grew up in?\\n\")\n",
    "pet = input(\"What is the name of your pet?\\n\")\n",
    "band_name = city + \" \" + pet\n",
    "print(\"Here is the name of your band :\" + band_name)"
   ]
  },
  {
   "cell_type": "code",
   "execution_count": 3,
   "id": "53fa9287",
   "metadata": {},
   "outputs": [
    {
     "name": "stdout",
     "output_type": "stream",
     "text": [
      "o\n"
     ]
    }
   ],
   "source": [
    "print(\"Hello\"[4])\n"
   ]
  },
  {
   "cell_type": "code",
   "execution_count": 1,
   "id": "36b2a1f9",
   "metadata": {},
   "outputs": [
    {
     "name": "stdout",
     "output_type": "stream",
     "text": [
      "3.0\n"
     ]
    }
   ],
   "source": [
    "print((3*(3+3)/3-3))\n"
   ]
  },
  {
   "cell_type": "code",
   "execution_count": 4,
   "id": "2e69ace3",
   "metadata": {},
   "outputs": [
    {
     "name": "stdout",
     "output_type": "stream",
     "text": [
      "What was the total bill?124.56\n",
      "How mmuch tip would you like to give? 10, 12, or 15? 12\n",
      "How many people to split the bill?7\n",
      "Each person should pay: $19.93\n"
     ]
    }
   ],
   "source": [
    "print(\"Welcome to the tip calculator!\")\n",
    "total_bill = float(input(\"What was the total bill?\" ))\n",
    "tip_percentage_to_add = int(input(\"How mmuch tip would you like to give? 10, 12, or 15? \"))\n",
    "number_people_splitting_bill = int(input(\"How many people to split the bill?\" ))\n",
    "\n",
    "bill_with_tip = total_bill * (1 + (tip_percentage_to_add/100))\n",
    "not_rounded_result = bill_with_tip/number_people_splitting_bill\n",
    "\n",
    "result = round(not_rounded_result, 2)\n",
    "message = f\"Each person should pay: ${result}\"\n",
    "print(message)"
   ]
  },
  {
   "cell_type": "code",
   "execution_count": 5,
   "id": "fb1ea813",
   "metadata": {},
   "outputs": [
    {
     "name": "stdout",
     "output_type": "stream",
     "text": [
      "Welcome to the tip calculator!\n",
      "What was the total bill?124.56\n",
      "How mmuch tip would you like to give? 10, 12, or 15? 12\n",
      "How many people to split the bill?7\n",
      "Each person should pay: $19.93\n"
     ]
    }
   ],
   "source": [
    "print(\"Welcome to the tip calculator!\")\n",
    "total_bill = float(input(\"What was the total bill?\" ))\n",
    "tip_percentage_to_add = int(input(\"How mmuch tip would you like to give? 10, 12, or 15? \"))\n",
    "number_people_splitting_bill = int(input(\"How many people to split the bill?\" ))\n",
    "\n",
    "bill_with_tip = total_bill * (1 + (tip_percentage_to_add/100))\n",
    "bill_per_person_unrounded = bill_with_tip/number_people_splitting_bill\n",
    "\n",
    "result = round(bill_per_person_unrounded, 2)\n",
    "message = f\"Each person should pay: ${result}\"\n",
    "print(message)"
   ]
  }
 ],
 "metadata": {
  "kernelspec": {
   "display_name": "Python 3 (ipykernel)",
   "language": "python",
   "name": "python3"
  },
  "language_info": {
   "codemirror_mode": {
    "name": "ipython",
    "version": 3
   },
   "file_extension": ".py",
   "mimetype": "text/x-python",
   "name": "python",
   "nbconvert_exporter": "python",
   "pygments_lexer": "ipython3",
   "version": "3.9.7"
  }
 },
 "nbformat": 4,
 "nbformat_minor": 5
}
